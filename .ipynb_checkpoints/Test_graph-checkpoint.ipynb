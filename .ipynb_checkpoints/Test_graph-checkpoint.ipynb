{
 "cells": [
  {
   "cell_type": "code",
   "execution_count": null,
   "id": "7e9fe85b",
   "metadata": {},
   "outputs": [],
   "source": [
    "import sys\n",
    "import numpy as np\n",
    "import pandas as pd\n",
    "\n",
    "import re\n",
    "import nltk\n",
    "import string\n",
    "import codecs\n",
    "import unicodedata\n",
    "\n",
    "sys.path.append('src/')\n",
    "\n",
    "import knowledge_graphs\n",
    "\n",
    "import importlib\n",
    "\n",
    "import matplotlib.pyplot as plt\n",
    "# import seaborn as sns\n",
    "# warnings.filterwarnings('ignore')\n",
    "%matplotlib inline"
   ]
  },
  {
   "cell_type": "code",
   "execution_count": 1,
   "id": "b3ae0225",
   "metadata": {},
   "outputs": [],
   "source": [
    "path_data =  \"data/\""
   ]
  },
  {
   "cell_type": "code",
   "execution_count": null,
   "id": "40cf73dc",
   "metadata": {},
   "outputs": [],
   "source": [
    "df_data_seng = pd.read_csv(path_data+'data_from_search_engines_collection_1.csv')"
   ]
  },
  {
   "cell_type": "markdown",
   "id": "8b2603ce",
   "metadata": {},
   "source": [
    "## Preprocessing"
   ]
  },
  {
   "cell_type": "code",
   "execution_count": null,
   "id": "5e0d3643",
   "metadata": {},
   "outputs": [],
   "source": [
    "df_text_counts = pd.concat([df_data_seng['text'], df_data_seng['text'].apply(lambda x:len(x))], axis=1)\n",
    "df_text_counts.columns = ['text', 'count']\n",
    "df_text_counts = df_text_counts.sort_values('count')\n",
    "df_text_counts"
   ]
  },
  {
   "cell_type": "code",
   "execution_count": null,
   "id": "3972588e",
   "metadata": {},
   "outputs": [],
   "source": [
    "## drop duplicates\n",
    "df_text_counts = df_text_counts.drop_duplicates()\n",
    "df_text_counts.shape"
   ]
  },
  {
   "cell_type": "code",
   "execution_count": null,
   "id": "0b754fb0",
   "metadata": {},
   "outputs": [],
   "source": [
    "df_text_counts['count'].plot(style='.')"
   ]
  },
  {
   "cell_type": "code",
   "execution_count": null,
   "id": "5330341b",
   "metadata": {},
   "outputs": [],
   "source": [
    "boxhist(df_text_counts, 'count')\n",
    "display(df_text_counts['count'].describe())"
   ]
  },
  {
   "cell_type": "code",
   "execution_count": null,
   "id": "8a1f0d88",
   "metadata": {},
   "outputs": [],
   "source": [
    "## Delete the last 9 samples that seen as outliers\n",
    "df_text_counts = df_text_counts.iloc[0:-9]\n",
    "df_text_counts.shape"
   ]
  },
  {
   "cell_type": "code",
   "execution_count": null,
   "id": "25e2555b",
   "metadata": {},
   "outputs": [],
   "source": [
    "boxhist(df_text_counts, 'count')\n",
    "display(df_text_counts['count'].describe())"
   ]
  },
  {
   "cell_type": "code",
   "execution_count": null,
   "id": "a3d272cf",
   "metadata": {},
   "outputs": [],
   "source": [
    "## analizing the data in the Q1\n",
    "boxhist(df_text_counts[df_text_counts['count']<3791.000000], 'count')\n",
    "display(df_text_counts[df_text_counts['count']<3791.000000].describe())"
   ]
  },
  {
   "cell_type": "code",
   "execution_count": null,
   "id": "7c9efc40",
   "metadata": {},
   "outputs": [],
   "source": [
    "## all the texts with lenght > Q1\n",
    "df_text_counts = df_text_counts[df_text_counts['count']>352]\n",
    "df_text_counts"
   ]
  },
  {
   "cell_type": "markdown",
   "id": "03f01ec9",
   "metadata": {},
   "source": [
    "## Graph construction"
   ]
  },
  {
   "cell_type": "code",
   "execution_count": null,
   "id": "3d6a4b28",
   "metadata": {},
   "outputs": [],
   "source": [
    "knowledge_graphs = importlib.reload(knowledge_graphs)"
   ]
  },
  {
   "cell_type": "code",
   "execution_count": null,
   "id": "034e8722",
   "metadata": {},
   "outputs": [],
   "source": [
    "## Install libraries\n",
    "!pip install pyvis\n",
    "!pip install transformers==3.1.0\n",
    "zero_shot_classifier = pipeline(\"zero-shot-classification\")"
   ]
  },
  {
   "cell_type": "code",
   "execution_count": null,
   "id": "f38da9dd",
   "metadata": {},
   "outputs": [],
   "source": [
    "## preprocess for parts of speach\n",
    "df_text_tmp = df_text_counts[[\"text\"]].applymap(lambda x: preprocess_text_ps(\n",
    "        x[1:], stopwords=stop_words) if x is not None else None)\n",
    "df_data_norm = df_data_seng[['link', 'title', 'date', 'text']].join(df_text_tmp, how='inner', rsuffix='_norm')\n",
    "\n",
    "df_text_tmp = df_text_counts[[\"text\"]].applymap(lambda x: preprocess_text_ps(\n",
    "        x[1:], stopwords=[]) if x is not None else None)\n",
    "df_data_norm = df_data_norm.join(df_text_tmp, how='inner', rsuffix='_norm_graph')\n",
    "\n",
    "df_data_norm['date'] = df_data_norm['date'].apply(lambda x: clean_date(x))\n",
    "df_data_norm"
   ]
  },
  {
   "cell_type": "code",
   "execution_count": null,
   "id": "a457a4e3",
   "metadata": {},
   "outputs": [],
   "source": [
    "kngraph = knowledge_graphs.Knowledge_graph(df_data_norm, zero_shot_classifier)"
   ]
  },
  {
   "cell_type": "code",
   "execution_count": null,
   "id": "0f69472e",
   "metadata": {},
   "outputs": [],
   "source": [
    "list_graphs_year = kngraph.build_grap(list_years=[2020], #2017, 2018, 2019, 2020, 2021, 2022 \n",
    "                   max_n_nodes = 10, min_n_nodes = 5, \n",
    "                   importance_nodes = 0.5, importance_prediction=0.6,\n",
    "                   sample_texts = 30, sample_sentences=30)"
   ]
  },
  {
   "cell_type": "code",
   "execution_count": null,
   "id": "2c84434e",
   "metadata": {},
   "outputs": [],
   "source": [
    "## Save graph\n",
    "filename = 'graph_2020_by_doc_test.csv'\n",
    "df_graph = pd.concat(list_graphs_year)\n",
    "df_graph"
   ]
  },
  {
   "cell_type": "code",
   "execution_count": null,
   "id": "a8bfd9b7",
   "metadata": {},
   "outputs": [],
   "source": [
    "df_graph.reset_index().to_csv(path_data+filename)"
   ]
  }
 ],
 "metadata": {
  "kernelspec": {
   "display_name": "Python 3 (ipykernel)",
   "language": "python",
   "name": "python3"
  },
  "language_info": {
   "codemirror_mode": {
    "name": "ipython",
    "version": 3
   },
   "file_extension": ".py",
   "mimetype": "text/x-python",
   "name": "python",
   "nbconvert_exporter": "python",
   "pygments_lexer": "ipython3",
   "version": "3.10.8"
  }
 },
 "nbformat": 4,
 "nbformat_minor": 5
}
